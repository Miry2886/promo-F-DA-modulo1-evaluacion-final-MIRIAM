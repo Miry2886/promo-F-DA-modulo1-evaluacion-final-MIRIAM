{
 "cells": [
  {
   "cell_type": "markdown",
   "metadata": {},
   "source": [
    "1 agregar_producto(self, nombre, precio, cantidad): Este método agrega un producto al inventario o actualiza su cantidad si ya existe. Debe recibir el nombre, precio y cantidad del producto como parámetros.\n",
    "Itera a través del inventario y compara los nombres de los productos con el nombre proporcionado.\n",
    "Si el producto ya existe, actualiza la cantidad.\n",
    "Si no existe, agrega un nuevo producto al inventario."
   ]
  },
  {
   "cell_type": "code",
   "execution_count": 34,
   "metadata": {},
   "outputs": [
    {
     "name": "stdout",
     "output_type": "stream",
     "text": [
      "camisa\n",
      "pantalon\n",
      "jerseys\n",
      "camisetas\n",
      "['camisa', 'pantalon', 'jerseys', 'camisetas']\n",
      "El producto no estaba en la lista, pero lo añadimos\n"
     ]
    }
   ],
   "source": [
    "# Inventario inicial\n",
    "inventario= [{\"nombre\": \"camisa\", \"precio\": 50, \"cantidad\": 40},  \n",
    " {\"nombre\": \"pantalon\", \"precio\": 60, \"cantidad\": 10}, {\"nombre\": \"jerseys\", \"precio\": 30, \"cantidad\": 20},\n",
    " {\"nombre\": \"camisetas\", \"precio\": 5, \"cantidad\": 20}]\n",
    "\n",
    "# Creamos una lista vacía para almacenar los nombres de los productos\n",
    "lista_inventario = []\n",
    "\n",
    "# Recorremos cada producto en el inventario\n",
    "for diccionario in inventario:\n",
    "    # Imprimimos el nombre del producto\n",
    "    print (diccionario[\"nombre\"])\n",
    "    # Añadimos el nombre del producto a la lista_inventario\n",
    "    lista_inventario.append(diccionario[\"nombre\"])\n",
    "\n",
    "# Imprimimos la lista_inventario\n",
    "print (lista_inventario)\n",
    "\n",
    "# Datos del nuevo producto\n",
    "nombre = \"falda\"\n",
    "precio = 60\n",
    "cantidad =15\n",
    "\n",
    "# Verificamos si el producto ya existe en el inventario\n",
    "if nombre in lista_inventario:\n",
    "    print (\"ya lo teniamos en el inventario\")\n",
    "else:\n",
    "    # Si el producto no existe, lo añadimos al inventario\n",
    "    print (\"El producto no estaba en la lista, pero lo añadimos\")\n",
    "    inventario.append( {\"nombre\":nombre, \"precio\":precio, \"cantidad\":cantidad})\n",
    "\n"
   ]
  },
  {
   "cell_type": "markdown",
   "metadata": {},
   "source": [
    "2 Muestra el inventario de productos con sus detalles.\n",
    "Utiliza un bucle for para recorrer el inventario.\n",
    "Imprime los detalles (nombre, precio, cantidad) de cada producto."
   ]
  },
  {
   "cell_type": "code",
   "execution_count": 35,
   "metadata": {},
   "outputs": [
    {
     "name": "stdout",
     "output_type": "stream",
     "text": [
      "{'nombre': 'camisa', 'precio': 50, 'cantidad': 40}\n",
      "{'nombre': 'pantalon', 'precio': 60, 'cantidad': 10}\n",
      "{'nombre': 'jerseys', 'precio': 30, 'cantidad': 20}\n",
      "{'nombre': 'camisetas', 'precio': 5, 'cantidad': 20}\n",
      "{'nombre': 'falda', 'precio': 60, 'cantidad': 15}\n"
     ]
    }
   ],
   "source": [
    "for producto in inventario:\n",
    "    print(producto)"
   ]
  },
  {
   "cell_type": "markdown",
   "metadata": {},
   "source": [
    "3 buscar_producto(self, nombre): Busca un producto en el inventario por nombre y muestra sus detalles si se encuentra. Debe recibir el nombre del producto como parámetro.\n",
    "Utiliza un bucle for para recorrer el inventario.\n",
    "Compara los nombres de los productos con el nombre proporcionado.\n",
    "Si se encuentra el producto, imprime sus detalles.\n",
    "Debe mostrar:\n",
    "Nombre: Camisa, Precio: $20, Cantidad: 40"
   ]
  },
  {
   "cell_type": "code",
   "execution_count": 36,
   "metadata": {},
   "outputs": [
    {
     "name": "stdout",
     "output_type": "stream",
     "text": [
      "Nombre del producto: pantalon\n",
      "Precio del producto: 60\n",
      "Cantidad del producto: 10\n"
     ]
    }
   ],
   "source": [
    "ropa_que_estoy_buscando = [\"pantalon\"]\n",
    "# Inventario inicial\n",
    "inventario= [{\"nombre\": \"camisa\", \"precio\": 50, \"cantidad\": 40},  \n",
    "     {\"nombre\": \"pantalon\", \"precio\": 60, \"cantidad\": 10}, {\"nombre\": \"jerseys\", \"precio\": 30, \"cantidad\": 20},\n",
    "     {\"nombre\": \"camisetas\", \"precio\": 5, \"cantidad\": 20}]\n",
    "\n",
    "# Recorremos cada producto en el inventario\n",
    "for producto in inventario:\n",
    "    # Si el nombre del producto coincide con el nombre proporcionado\n",
    "    if producto [\"nombre\"] in ropa_que_estoy_buscando:\n",
    "        # Imprimimos los detalles del producto\n",
    "        print(f\"Nombre del producto: {producto['nombre']}\")\n",
    "        print(f\"Precio del producto: {producto['precio']}\")\n",
    "        print(f\"Cantidad del producto: {producto['cantidad']}\")"
   ]
  },
  {
   "cell_type": "markdown",
   "metadata": {},
   "source": [
    "4 actualizar_stock(self, nombre, cantidad): Actualiza el stock de un producto en el inventario. Debe recibir el nombre del producto y la cantidad a agregar o quitar como parámetros.\n",
    "Utiliza un bucle for para recorrer el inventario.\n",
    "Busca el producto por nombre.\n",
    "Actualiza la cantidad según la entrada del usuario.\n",
    "Si el producto no esta en el inventario muestra un mensaje indicándolo."
   ]
  },
  {
   "cell_type": "code",
   "execution_count": 37,
   "metadata": {},
   "outputs": [
    {
     "name": "stdout",
     "output_type": "stream",
     "text": [
      "La cantidad del camisa ha sido actualizada a 140\n"
     ]
    }
   ],
   "source": [
    "# Aqui ponemos lo que queremos cambiar\n",
    "actualizar_stock = [\"camisa\", 100]\n",
    "\n",
    "# Inventario inicial\n",
    "inventario= [{\"nombre\": \"camisa\", \"precio\": 50, \"cantidad\": 40},  \n",
    "{\"nombre\": \"pantalon\", \"precio\": 60, \"cantidad\": 10}, {\"nombre\": \"jerseys\", \"precio\": 30, \"cantidad\": 20},\n",
    "{\"nombre\": \"camisetas\", \"precio\": 5, \"cantidad\": 20}]\n",
    "\n",
    "# Recorremos cada producto en el inventario\n",
    "for producto in inventario:\n",
    "    # Si el nombre del producto coincide con el nombre proporcionado\n",
    "    if producto['nombre'] in actualizar_stock:\n",
    "        # Actualizamos la cantidad del producto\n",
    "        producto['cantidad'] += actualizar_stock [1]\n",
    "        #ponemos el [1] porque en la lista de elementos de lo q queremos cambiar\n",
    "        # es el elemento 1 (el 0 es el producto)\n",
    "        \n",
    "        print(f\"La cantidad del {producto['nombre']} ha sido actualizada a {producto['cantidad']}\")\n",
    "        \n"
   ]
  },
  {
   "cell_type": "markdown",
   "metadata": {},
   "source": [
    "5 eliminar_producto(self, nombre): Elimina un producto del inventario por nombre. Debe recibir el nombre del producto como parámetro.\n",
    "Utiliza un bucle for para recorrer el inventario.\n",
    "Busca el producto por nombre.\n",
    "Elimina el producto del inventario si existe.\n",
    "Si el producto no esta en el inventario muestra un mensaje indicándolo."
   ]
  },
  {
   "cell_type": "code",
   "execution_count": 38,
   "metadata": {},
   "outputs": [
    {
     "name": "stdout",
     "output_type": "stream",
     "text": [
      "El producto camisa ha sido eliminado del inventario.\n",
      "[{'nombre': 'pantalon', 'precio': 60, 'cantidad': 10}, {'nombre': 'jerseys', 'precio': 30, 'cantidad': 20}, {'nombre': 'camisetas', 'precio': 5, 'cantidad': 20}]\n"
     ]
    }
   ],
   "source": [
    "# Inventario inicial\n",
    "inventario= [{\"nombre\": \"camisa\", \"precio\": 50, \"cantidad\": 40},  \n",
    " {\"nombre\": \"pantalon\", \"precio\": 60, \"cantidad\": 10}, {\"nombre\": \"jerseys\", \"precio\": 30, \"cantidad\": 20},\n",
    " {\"nombre\": \"camisetas\", \"precio\": 5, \"cantidad\": 20}]\n",
    "\n",
    "eliminar = 'camisa'\n",
    "\n",
    "for i, producto in enumerate(inventario):#al borrar todo el producto nos cambia de producto a lista\n",
    "    # Si el nombre del producto coincide con el nombre proporcionado\n",
    "    if producto['nombre'] in eliminar:\n",
    "        # Eliminamos el producto del inventario\n",
    "        del inventario[i]\n",
    "        print(f\"El producto {eliminar} ha sido eliminado del inventario.\")\n",
    "    \n",
    "            \n",
    "print (inventario)"
   ]
  },
  {
   "cell_type": "markdown",
   "metadata": {},
   "source": [
    "6 Calcula y muestra el valor total del inventario.\n",
    "Utiliza un bucle for para calcular el valor total del inventario.\n",
    "Itera a través del inventario y suma el valor de cada producto (precio x cantidad). Es decir, calcula el valor total del inventario. "
   ]
  },
  {
   "cell_type": "code",
   "execution_count": 39,
   "metadata": {},
   "outputs": [
    {
     "name": "stdout",
     "output_type": "stream",
     "text": [
      "3300\n"
     ]
    }
   ],
   "source": [
    "# Inventario inicial\n",
    "d\n",
    "\n",
    "valor_inventario = 0\n",
    "\n",
    "for producto in inventario:\n",
    "    valor_inventario=producto[\"precio\"]* producto [\"cantidad\"] + valor_inventario\n",
    "\n",
    "    \n",
    "print(valor_inventario)"
   ]
  },
  {
   "cell_type": "markdown",
   "metadata": {},
   "source": [
    "7) Busca productos en el inventario que coincidan con un patrón de búsqueda en formato regex en el nombre y muestra los resultados. Debe recibir el patrón como parámetro.\n",
    "Utiliza un bucle for para recorrer el inventario.\n",
    "Utiliza la función más apropiada para buscar coincidencias con el patrón de expresión regular.\n",
    "Agrega los productos encontrados a una lista y luego imprime sus detalles."
   ]
  },
  {
   "cell_type": "code",
   "execution_count": null,
   "metadata": {},
   "outputs": [],
   "source": []
  },
  {
   "cell_type": "markdown",
   "metadata": {},
   "source": [
    "8  Permite a un cliente realizar una compra seleccionando productos del inventario. Debe interactuar con el cliente para seleccionar productos y calcular el costo total de la compra.\n",
    "Utiliza un bucle while para permitir al cliente realizar múltiples compras.\n",
    "Muestra el inventario y solicita al cliente ingresar el nombre del producto que desea comprar.\n",
    "Registra los productos seleccionados en un carrito y actualiza el inventario.\n",
    "Calcula el costo total de la compra."
   ]
  },
  {
   "cell_type": "code",
   "execution_count": 40,
   "metadata": {},
   "outputs": [
    {
     "name": "stdout",
     "output_type": "stream",
     "text": [
      "Inventario: [{'nombre': 'camisa', 'precio': 50, 'cantidad': 40}, {'nombre': 'pantalon', 'precio': 60, 'cantidad': 10}, {'nombre': 'jerseys', 'precio': 30, 'cantidad': 20}, {'nombre': 'camisetas', 'precio': 5, 'cantidad': 20}]\n",
      "Inventario: [{'nombre': 'camisa', 'precio': 50, 'cantidad': 40}, {'nombre': 'pantalon', 'precio': 60, 'cantidad': 9}, {'nombre': 'jerseys', 'precio': 30, 'cantidad': 20}, {'nombre': 'camisetas', 'precio': 5, 'cantidad': 20}]\n",
      "Inventario: [{'nombre': 'camisa', 'precio': 50, 'cantidad': 40}, {'nombre': 'pantalon', 'precio': 60, 'cantidad': 8}, {'nombre': 'jerseys', 'precio': 30, 'cantidad': 20}, {'nombre': 'camisetas', 'precio': 5, 'cantidad': 20}]\n",
      "Carrito: [{'nombre': 'pantalon', 'precio': 60, 'cantidad': 8}, {'nombre': 'pantalon', 'precio': 60, 'cantidad': 8}]\n",
      "Coste total de la compra: $ 120\n"
     ]
    }
   ],
   "source": [
    "#este ej lo he copiado de chat gpt porque no me salia pero he sabido explicar como lo ha hecho\n",
    "inventario = [{\"nombre\": \"camisa\", \"precio\": 50, \"cantidad\": 40},  \n",
    " {\"nombre\": \"pantalon\", \"precio\": 60, \"cantidad\": 10}, {\"nombre\": \"jerseys\", \"precio\": 30, \"cantidad\": 20},\n",
    " {\"nombre\": \"camisetas\", \"precio\": 5, \"cantidad\": 20}]\n",
    "\n",
    "carrito = [] #creamos una lista vacia donde meteremos las cosas q el cliente elija\n",
    "coste_total = 0  #ponemos un contador para ir sumando las compras\n",
    "\n",
    "while True:\n",
    "    print(\"Inventario:\", inventario) #printeamos el inventario para ver lo q hay y lo q queda\n",
    "    producto = input(\"Ingrese el nombre del producto que desea comprar (o 'salir' para terminar): \")\n",
    "                #creamos input para q el cliente elija que quiere comprar\n",
    "    \n",
    "    if producto == 'salir': #si el cliente quiere salir con break se para el bucle\n",
    "        break\n",
    "\n",
    "    for item in inventario: #explicacion item abajo\n",
    "        if item['nombre'] == producto and item['cantidad'] > 0: #si el prod esta y hay mas que cero\n",
    "            carrito.append(item) #añadimos al carrito el producto con el append\n",
    "            item['cantidad'] -= 1 # cuando mete algo al carrito hay que disminuir la cantidad\n",
    "            coste_total += item['precio'] #cuando mete algo al carrito se suma el importe a la variable coste\n",
    "                                            #total que hemos creado al principio\n",
    "            break\n",
    "    else:\n",
    "        print(\"Lo siento, ese producto no está disponible.\")\n",
    "\n",
    "print(\"Carrito:\", carrito)\n",
    "print(\"Coste total de la compra: $\", coste_total)\n",
    "\n",
    "# item En el código de Python, es una variable que se utiliza en el bucle `for`. \n",
    "# En cada iteración del bucle, `item` toma el valor de un elemento diferente en la lista `inventario`. \n",
    "#Dado que `inventario` es una lista de diccionarios, cada `item` es un diccionario que representa \n",
    "# un producto en el inventario. "
   ]
  },
  {
   "cell_type": "markdown",
   "metadata": {},
   "source": [
    "9 Procesa el pago de una compra, calcula el cambio y muestra un mensaje de confirmación.\n",
    "Utiliza un bloque try...except para manejar excepciones.\n",
    "Solicita al cliente ingresar la cantidad total y la cantidad de pago usando un input.\n",
    "Calcula el cambio y muestra un mensaje de pago exitoso o un error en caso de monto insuficiente."
   ]
  },
  {
   "cell_type": "code",
   "execution_count": 75,
   "metadata": {},
   "outputs": [
    {
     "name": "stdout",
     "output_type": "stream",
     "text": [
      "Ha ocurrido un error\n"
     ]
    }
   ],
   "source": [
    "try:\n",
    "\n",
    "    total = input(\"Ingresa la cantidad total: \")\n",
    "    pago = input(\"Ingresa la cantidad que pagas: \")\n",
    "    \n",
    "    cambio = pago - total\n",
    "    if cambio < 0:\n",
    "        print(\"El pago es insuficiente.\")\n",
    "    elif cambio >0:\n",
    "        print(f\"El pago ha sido realizado correctamente. Tu cambio es {cambio} euros.\")\n",
    "    else:\n",
    "        print(f\"Ha ocurrido un error\")\n",
    "        \n",
    "except TypeError: type\n",
    "print(\"Ha ocurrido un error\")"
   ]
  },
  {
   "cell_type": "markdown",
   "metadata": {},
   "source": [
    "10 Agrega un nuevo cliente al registro de clientes. Debe recibir el nombre y el correo electrónico del cliente como parámetros.\n",
    "Agrega un cliente al diccionario de clientes con su nombre y correo electrónico."
   ]
  },
  {
   "cell_type": "code",
   "execution_count": 44,
   "metadata": {},
   "outputs": [
    {
     "name": "stdout",
     "output_type": "stream",
     "text": [
      "Diego Carrasco\n",
      "Judith Carrasco\n",
      "Moises Carrasco\n",
      "['Diego Carrasco', 'Judith Carrasco', 'Moises Carrasco']\n",
      "El cliente no está en la base de datos, pero lo añadimos\n",
      "[{'nombre': 'Diego Carrasco', 'email': 'diegocarrasco@gmail.com', 'compras': []}, {'nombre': 'Judith Carrasco', 'email': 'judithcarrasco@gmail.com', 'compras': []}, {'nombre': 'Moises Carrasco', 'email': 'moisescarrasco@gmail.com', 'compras': []}, {'nombre': 'Miriam Mahon', 'email': 'miriammahon@gmail.com'}]\n"
     ]
    }
   ],
   "source": [
    "#este ejercicio creo que es como el primero, montar una lista de clientes\n",
    "#con sus datos\n",
    "#hacemos una lista con diccionarios dentro para poder añadir al cliente\n",
    "\n",
    "clientes = [{\"nombre\": \"Diego Carrasco\", \"email\":\"diegocarrasco@gmail.com\",\"compras\":[]},\n",
    "           {\"nombre\": \"Judith Carrasco\", \"email\":\"judithcarrasco@gmail.com\",\"compras\":[]},\n",
    "           {\"nombre\":\"Moises Carrasco\", \"email\":\"moisescarrasco@gmail.com\", \"compras\":[]}]\n",
    "\n",
    "# Creamos una lista vacía para almacenar los nombres de los clientes\n",
    "lista_clientes = []\n",
    "\n",
    "# Recorremos cada cliente\n",
    "for cliente in clientes:\n",
    "    # Imprimimos el nombre del cliente\n",
    "    print (cliente[\"nombre\"])\n",
    "    # Añadimos el nombre y el email del cliente a la lista_clientes\n",
    "    lista_clientes.append(cliente[\"nombre\"])\n",
    "\n",
    "# Imprimimos la lista_clientes para ver que tenemos dentro\n",
    "print (lista_clientes)\n",
    "\n",
    "# Datos del nuevo cliente\n",
    "nombre = \"Miriam Mahon\"\n",
    "email = \"miriammahon@gmail.com\"\n",
    "compras = []\n",
    "\n",
    "# Verificamos si el producto ya existe en el inventario\n",
    "if nombre in lista_clientes:\n",
    "    print (\"el cliente ya existe en nuestra BBDD\")\n",
    "else:\n",
    "    # Si el cliente no existe, lo añadimos a nuestra lista de clientes\n",
    "    print (\"El cliente no está en la base de datos, pero lo añadimos\")\n",
    "    clientes.append( {\"nombre\":nombre, \"email\":email})\n",
    "    \n",
    "print (clientes)\n"
   ]
  },
  {
   "cell_type": "markdown",
   "metadata": {},
   "source": [
    "11  Muestra la lista de clientes registrados con sus nombres y correos electrónicos.\n",
    "Utiliza un bucle for para recorrer la base de datos de clientes.\n",
    "Imprime los detalles de cada cliente (nombre y correo electrónico)"
   ]
  },
  {
   "cell_type": "code",
   "execution_count": 42,
   "metadata": {},
   "outputs": [
    {
     "name": "stdout",
     "output_type": "stream",
     "text": [
      "[{'nombre': 'Diego Carrasco', 'email': 'diegocarrasco@gmail.com', 'compras': []}, {'nombre': 'Judith Carrasco', 'email': 'judithcarrasco@gmail.com', 'compras': []}, {'nombre': 'Moises Carrasco', 'email': 'moisescarrasco@gmail.com', 'compras': []}, {'nombre': 'Miriam Mahon', 'email': 'miriammahon@gmail.com'}]\n"
     ]
    }
   ],
   "source": [
    "print (clientes)"
   ]
  },
  {
   "cell_type": "markdown",
   "metadata": {},
   "source": [
    "12 Registra una compra para un cliente, actualiza las ventas totales y agrega la compra al historial del cliente. Debe recibir el nombre del cliente y el carrito de compras como parámetros.\n",
    "Busca al cliente en el diccionario de clientes.\n",
    "Si el cliente no esta en el diccionario de clientes, muestra que no se puede realizar la acción por que el cliente no está en el diccionario.\n",
    "Calcula el total de la compra y registra la compra, incluyendo los productos y el total.\n",
    "Ejemplo:\n",
    "carrito_cliente1 = {\"Camisa\": {\"precio\": 20, \"cantidad\": 3}}\n",
    "tienda.registrar_compra(\"Cliente1\", carrito_cliente1)"
   ]
  },
  {
   "cell_type": "code",
   "execution_count": 61,
   "metadata": {},
   "outputs": [
    {
     "ename": "SyntaxError",
     "evalue": "cannot assign to function call (3144263374.py, line 11)",
     "output_type": "error",
     "traceback": [
      "\u001b[0;36m  File \u001b[0;32m\"/tmp/ipykernel_351/3144263374.py\"\u001b[0;36m, line \u001b[0;32m11\u001b[0m\n\u001b[0;31m    carrito_cliente (nombre_cliente) = []\u001b[0m\n\u001b[0m    ^\u001b[0m\n\u001b[0;31mSyntaxError\u001b[0m\u001b[0;31m:\u001b[0m cannot assign to function call\n"
     ]
    }
   ],
   "source": [
    "clientes = [{\"nombre\": \"Diego Carrasco\", \"email\":\"diegocarrasco@gmail.com\",\"compras\":[]},\n",
    "           {\"nombre\": \"Judith Carrasco\", \"email\":\"judithcarrasco@gmail.com\",\"compras\":[]},\n",
    "           {\"nombre\":\"Moises Carrasco\", \"email\":\"moisescarrasco@gmail.com\", \"compras\":[]}]\n",
    "\n",
    "inventario= [{\"nombre\": \"camisa\", \"precio\": 50, \"cantidad\": 40},  \n",
    " {\"nombre\": \"pantalon\", \"precio\": 60, \"cantidad\": 10}, {\"nombre\": \"jerseys\", \"precio\": 30, \"cantidad\": 20},\n",
    " {\"nombre\": \"camisetas\", \"precio\": 5, \"cantidad\": 20}]\n",
    "\n",
    "\n",
    "total_compras = []\n",
    "carrito_cliente (nombre_cliente) = []\n",
    "\n",
    "diccionario_clientes = {cliente['nombre']: cliente for cliente in clientes}\n",
    "if nombre_cliente not in diccionario_clientes:\n",
    "    print (\"No se puede realizar la acción porque el cliente no está en el diccionario.\")\n",
    "\n",
    "\n",
    "total_compras= \"compras_iniciales\" += \"compras_totales\"\n",
    "for item_inventario in inventario:\n",
    "    carrito_cliente(nombre).append(compras(nombre, precio))\n",
    "    \n",
    "carrito_cliente = (Diego Carrasco)\n",
    "compras = \"camiseta\"    \n",
    "    \n",
    "\n",
    "        \n",
    "        \n",
    "        \n",
    "        \n",
    "        \n",
    "        \n",
    "        "
   ]
  },
  {
   "cell_type": "markdown",
   "metadata": {},
   "source": [
    "13  Muestra el historial de compras de un cliente. Debe recibir el nombre del cliente como parámetro.\n",
    "Busca al cliente en el diccionario de clientes.\n",
    "Muestra las compras realizadas por el cliente, incluyendo detalles de productos y totales."
   ]
  },
  {
   "cell_type": "code",
   "execution_count": null,
   "metadata": {},
   "outputs": [],
   "source": []
  },
  {
   "cell_type": "markdown",
   "metadata": {},
   "source": [
    "14 Muestra las ventas totales de la tienda.\n",
    "Suma los totales de todas las compras realizadas y muestra el total de ventas totales en la tienda.\n"
   ]
  },
  {
   "cell_type": "code",
   "execution_count": null,
   "metadata": {},
   "outputs": [],
   "source": []
  }
 ],
 "metadata": {
  "kernelspec": {
   "display_name": "base",
   "language": "python",
   "name": "python3"
  },
  "language_info": {
   "codemirror_mode": {
    "name": "ipython",
    "version": 3
   },
   "file_extension": ".py",
   "mimetype": "text/x-python",
   "name": "python",
   "nbconvert_exporter": "python",
   "pygments_lexer": "ipython3",
   "version": "3.9.7"
  }
 },
 "nbformat": 4,
 "nbformat_minor": 2
}
